{
  "nbformat": 4,
  "nbformat_minor": 0,
  "metadata": {
    "colab": {
      "provenance": [],
      "authorship_tag": "ABX9TyNLlBI7k4Q/3o7CVxsag4xy",
      "include_colab_link": true
    },
    "kernelspec": {
      "name": "python3",
      "display_name": "Python 3"
    },
    "language_info": {
      "name": "python"
    }
  },
  "cells": [
    {
      "cell_type": "markdown",
      "metadata": {
        "id": "view-in-github",
        "colab_type": "text"
      },
      "source": [
        "<a href=\"https://colab.research.google.com/github/jush-ua/CSST-101-3B-AY2526/blob/main/Assessment_Task_3.ipynb\" target=\"_parent\"><img src=\"https://colab.research.google.com/assets/colab-badge.svg\" alt=\"Open In Colab\"/></a>"
      ]
    },
    {
      "cell_type": "markdown",
      "source": [
        "# **Part 1**\n"
      ],
      "metadata": {
        "id": "MYsqkuQlV6QM"
      }
    },
    {
      "cell_type": "code",
      "metadata": {
        "colab": {
          "base_uri": "https://localhost:8080/"
        },
        "id": "e38f69a3",
        "outputId": "e4a5d4d5-aac8-4af1-ac1c-fb4920c89129"
      },
      "source": [
        "def unify(p1, p2):\n",
        "    f1, f2 = p1.split(\"(\")[0], p2.split(\"(\")[0]\n",
        "    if f1 != f2: return \"Cannot be unified\"\n",
        "\n",
        "    a1, a2 = p1[p1.find(\"(\")+1:-1].split(\",\"), p2[p2.find(\"(\")+1:-1].split(\",\")\n",
        "    if len(a1) != len(a2): return \"Cannot be unified\"\n",
        "\n",
        "    subs = {}\n",
        "    for x, y in zip(a1, a2):\n",
        "        x, y = x.strip(), y.strip()\n",
        "        if x == y: continue\n",
        "        if x.islower(): subs[x] = y\n",
        "        elif y.islower(): subs[y] = x\n",
        "        else: return \"Cannot be unified\"\n",
        "\n",
        "    return subs or \"Already unified\"\n",
        "\n",
        "unification_result = unify(\"Eligible(x)\", \"Eligible(Ana)\")\n",
        "\n",
        "print(f\"Unifying Eligible(x) and Eligible(Ana): {unification_result}\")\n",
        "\n",
        "if isinstance(unification_result, dict):\n",
        "    consequence = \"Scholarship(x)\"\n",
        "    derived_fact = consequence.replace('x', unification_result['x'])\n",
        "    print(f\"Inferred fact: {derived_fact}\")"
      ],
      "execution_count": 4,
      "outputs": [
        {
          "output_type": "stream",
          "name": "stdout",
          "text": [
            "Unifying Eligible(x) and Eligible(Ana): {'x': 'Ana'}\n",
            "Inferred fact: Scholarship(Ana)\n"
          ]
        }
      ]
    },
    {
      "cell_type": "markdown",
      "source": [
        "# **Part 2**"
      ],
      "metadata": {
        "id": "8SMoTeW7cEnV"
      }
    },
    {
      "cell_type": "code",
      "source": [
        "rules = {\n",
        "    \"Eligible(X)\": [\"HighGrades(X)\", \"StudentLeader(X)\", \"Applied(X)\"],\n",
        "    \"Scholarship(X)\": [\"Eligible(X)\"],\n",
        "    \"FinancialSupport(X)\": [\"Scholarship(X)\"]\n",
        "}\n",
        "\n",
        "facts = {\n",
        "    \"Juan\": [\"HighGrades(Juan)\", \"Applied(Juan)\"],\n",
        "    \"Maria\": [\"HighGrades(Maria)\", \"DidNotApply(Maria)\"],\n",
        "    \"Carlos\": [\"StudentLeader(Carlos)\", \"NoHighGrades(Carlos)\"],\n",
        "    \"Ana\": [\"HighGrades(Ana)\", \"StudentLeader(Ana)\", \"Applied(Ana)\"]\n",
        "}\n",
        "\n",
        "def has_fact(individual, fact_predicate):\n",
        "    return fact_predicate in facts.get(individual, [])\n",
        "\n",
        "def apply_rules(individual, current_facts):\n",
        "    derived = []\n",
        "    for head, body in rules.items():\n",
        "        head_predicate = head.split(\"(\")[0]\n",
        "        if head_predicate in head.replace(\"X\", individual):\n",
        "            conditions_met = True\n",
        "            for condition in body:\n",
        "                condition_for_individual = condition.replace(\"X\", individual)\n",
        "                if not (condition_for_individual in current_facts or has_fact(individual, condition_for_individual)):\n",
        "                    conditions_met = False\n",
        "                    break\n",
        "\n",
        "            if conditions_met:\n",
        "                derived_fact = head.replace(\"X\", individual)\n",
        "                if derived_fact not in current_facts and not has_fact(individual, derived_fact):\n",
        "                    derived.append(derived_fact)\n",
        "    return derived\n",
        "\n",
        "# --- Analysis for each individual ---\n",
        "\n",
        "print(\"--- Analysis for Juan ---\")\n",
        "juan_derived = apply_rules(\"Juan\", facts.get(\"Juan\", []))\n",
        "print(f\"Initial facts for Juan: {facts.get('Juan', [])}\")\n",
        "print(f\"Derived facts for Juan: {juan_derived}\")\n",
        "if \"Eligible(Juan)\" in juan_derived:\n",
        "    print(\"Juan is Eligible.\")\n",
        "    juan_scholarship = apply_rules(\"Juan\", facts.get(\"Juan\", []) + juan_derived)\n",
        "    print(f\"Further derived facts for Juan: {juan_scholarship}\")\n",
        "else:\n",
        "    print(\"Juan is not Eligible because he is not a Student Leader.\")\n",
        "\n",
        "print(\"\\n--- Analysis for Ana ---\")\n",
        "ana_derived = apply_rules(\"Ana\", facts.get(\"Ana\", []))\n",
        "print(f\"Initial facts for Ana: {facts.get('Ana', [])}\")\n",
        "print(f\"Derived facts for Ana: {ana_derived}\")\n",
        "if \"Eligible(Ana)\" in ana_derived:\n",
        "    print(\"Ana is Eligible.\")\n",
        "    ana_scholarship = apply_rules(\"Ana\", facts.get(\"Ana\", []) + ana_derived)\n",
        "    print(f\"Further derived facts for Ana (after Eligible): {ana_scholarship}\")\n",
        "    ana_financial_support = apply_rules(\"Ana\", facts.get(\"Ana\", []) + ana_derived + ana_scholarship)\n",
        "    print(f\"Further derived facts for Ana (after Scholarship): {ana_financial_support}\")\n",
        "\n",
        "else:\n",
        "     print(\"Ana is not Eligible (should not happen based on facts).\")\n",
        "\n",
        "\n",
        "print(\"\\n--- Analysis for Maria ---\")\n",
        "print(f\"Initial facts for Maria: {facts.get('Maria', [])}\")\n",
        "maria_derived = apply_rules(\"Maria\", facts.get(\"Maria\", []))\n",
        "print(f\"Derived facts for Maria: {maria_derived}\")\n",
        "print(\"Maria is not Eligible because she is not a Student Leader and hasn't Applied.\")\n",
        "\n",
        "\n",
        "print(\"\\n--- Analysis for Carlos ---\")\n",
        "print(f\"Initial facts for Carlos: {facts.get('Carlos', [])}\")\n",
        "carlos_derived = apply_rules(\"Carlos\", facts.get(\"Carlos\", []))\n",
        "print(f\"Derived facts for Carlos: {carlos_derived}\")\n",
        "print(\"Carlos is not Eligible because he does not have High Grades and hasn't Applied.\")"
      ],
      "metadata": {
        "colab": {
          "base_uri": "https://localhost:8080/"
        },
        "id": "H7TOXfg_cZfs",
        "outputId": "cb241b40-e9a8-4e2d-f044-ebcea66b7d09"
      },
      "execution_count": 10,
      "outputs": [
        {
          "output_type": "stream",
          "name": "stdout",
          "text": [
            "--- Analysis for Juan ---\n",
            "Initial facts for Juan: ['HighGrades(Juan)', 'Applied(Juan)']\n",
            "Derived facts for Juan: []\n",
            "Juan is not Eligible because he is not a Student Leader.\n",
            "\n",
            "--- Analysis for Ana ---\n",
            "Initial facts for Ana: ['HighGrades(Ana)', 'StudentLeader(Ana)', 'Applied(Ana)']\n",
            "Derived facts for Ana: ['Eligible(Ana)']\n",
            "Ana is Eligible.\n",
            "Further derived facts for Ana (after Eligible): ['Scholarship(Ana)']\n",
            "Further derived facts for Ana (after Scholarship): ['FinancialSupport(Ana)']\n",
            "\n",
            "--- Analysis for Maria ---\n",
            "Initial facts for Maria: ['HighGrades(Maria)', 'DidNotApply(Maria)']\n",
            "Derived facts for Maria: []\n",
            "Maria is not Eligible because she is not a Student Leader and hasn't Applied.\n",
            "\n",
            "--- Analysis for Carlos ---\n",
            "Initial facts for Carlos: ['StudentLeader(Carlos)', 'NoHighGrades(Carlos)']\n",
            "Derived facts for Carlos: []\n",
            "Carlos is not Eligible because he does not have High Grades and hasn't Applied.\n"
          ]
        }
      ]
    },
    {
      "cell_type": "markdown",
      "source": [
        "# **Part 3**"
      ],
      "metadata": {
        "id": "F4fdeNjHhLJu"
      }
    },
    {
      "cell_type": "code",
      "source": [
        "rules = {\n",
        "    \"Eligible(X)\": [\"HighGrades(X)\", \"StudentLeader(X)\", \"Applied(X)\"],\n",
        "    \"Scholarship(X)\": [\"Eligible(X)\"],\n",
        "    \"FinancialSupport(X)\": [\"Scholarship(X)\"]\n",
        "}\n",
        "\n",
        "facts = {\n",
        "    \"Juan\": [\"HighGrades(Juan)\", \"Applied(Juan)\"],\n",
        "    \"Maria\": [\"HighGrades(Maria)\", \"DidNotApply(Maria)\"],\n",
        "    \"Carlos\": [\"StudentLeader(Carlos)\", \"NoHighGrades(Carlos)\"],\n",
        "    \"Ana\": [\"HighGrades(Ana)\", \"StudentLeader(Ana)\", \"Applied(Ana)\"]\n",
        "}\n",
        "\n",
        "def backward_chaining(goal, facts, rules, level=0):\n",
        "    indent = \"  \" * level\n",
        "    print(f\"{indent}Goal: {goal}\")\n",
        "\n",
        "    # 1. Check if the goal is in the initial facts\n",
        "    goal_predicate = goal.split(\"(\")[0]\n",
        "    import re\n",
        "    match = re.search(r'\\((.*?)\\)', goal)\n",
        "    individual = match.group(1) if match else None\n",
        "\n",
        "    if individual and goal in facts.get(individual, []):\n",
        "        print(f\"{indent}  -> Goal {goal} is a known fact.\")\n",
        "        return True\n",
        "\n",
        "    # 2. Check if there is a rule whose head matches the goal\n",
        "    for head, body in rules.items():\n",
        "        head_predicate = head.split(\"(\")[0]\n",
        "\n",
        "        if head_predicate == goal_predicate:\n",
        "            if individual and head.replace(\"X\", individual) == goal:\n",
        "                print(f\"{indent}  -> Found rule: {head} :- {', '.join(body)}\")\n",
        "                all_subgoals_proven = True\n",
        "                for subgoal in body:\n",
        "                    substituted_subgoal = subgoal.replace(\"X\", individual)\n",
        "                    if not backward_chaining(substituted_subgoal, facts, rules, level + 1):\n",
        "                        all_subgoals_proven = False\n",
        "                        print(f\"{indent}  -> Subgoal {substituted_subgoal} failed.\")\n",
        "                        break\n",
        "\n",
        "                if all_subgoals_proven:\n",
        "                    print(f\"{indent}  -> All subgoals for rule {head} proven.\")\n",
        "                    return True\n",
        "\n",
        "    # 3. If no rule or fact proves the goal\n",
        "    print(f\"{indent}  -> Goal {goal} could not be proven.\")\n",
        "    return False\n",
        "\n",
        "print(\"--- Backward Chaining for Scholarship(Maria) ---\")\n",
        "backward_chaining(\"Scholarship(Maria)\", facts, rules)\n",
        "\n",
        "print(\"\\n--- Backward Chaining for FinancialSupport(Ana) ---\")\n",
        "backward_chaining(\"FinancialSupport(Ana)\", facts, rules)"
      ],
      "metadata": {
        "colab": {
          "base_uri": "https://localhost:8080/"
        },
        "id": "U712KwZ9hTmp",
        "outputId": "b1f30d27-5ad4-4eab-de85-9f6fada8d7c0"
      },
      "execution_count": 13,
      "outputs": [
        {
          "output_type": "stream",
          "name": "stdout",
          "text": [
            "--- Backward Chaining for Scholarship(Maria) ---\n",
            "Goal: Scholarship(Maria)\n",
            "  -> Found rule: Scholarship(X) :- Eligible(X)\n",
            "  Goal: Eligible(Maria)\n",
            "    -> Found rule: Eligible(X) :- HighGrades(X), StudentLeader(X), Applied(X)\n",
            "    Goal: HighGrades(Maria)\n",
            "      -> Goal HighGrades(Maria) is a known fact.\n",
            "    Goal: StudentLeader(Maria)\n",
            "      -> Goal StudentLeader(Maria) could not be proven.\n",
            "    -> Subgoal StudentLeader(Maria) failed.\n",
            "    -> Goal Eligible(Maria) could not be proven.\n",
            "  -> Subgoal Eligible(Maria) failed.\n",
            "  -> Goal Scholarship(Maria) could not be proven.\n",
            "\n",
            "--- Backward Chaining for FinancialSupport(Ana) ---\n",
            "Goal: FinancialSupport(Ana)\n",
            "  -> Found rule: FinancialSupport(X) :- Scholarship(X)\n",
            "  Goal: Scholarship(Ana)\n",
            "    -> Found rule: Scholarship(X) :- Eligible(X)\n",
            "    Goal: Eligible(Ana)\n",
            "      -> Found rule: Eligible(X) :- HighGrades(X), StudentLeader(X), Applied(X)\n",
            "      Goal: HighGrades(Ana)\n",
            "        -> Goal HighGrades(Ana) is a known fact.\n",
            "      Goal: StudentLeader(Ana)\n",
            "        -> Goal StudentLeader(Ana) is a known fact.\n",
            "      Goal: Applied(Ana)\n",
            "        -> Goal Applied(Ana) is a known fact.\n",
            "      -> All subgoals for rule Eligible(X) proven.\n",
            "    -> All subgoals for rule Scholarship(X) proven.\n",
            "  -> All subgoals for rule FinancialSupport(X) proven.\n"
          ]
        },
        {
          "output_type": "execute_result",
          "data": {
            "text/plain": [
              "True"
            ]
          },
          "metadata": {},
          "execution_count": 13
        }
      ]
    },
    {
      "cell_type": "markdown",
      "source": [
        "# **Part 4**"
      ],
      "metadata": {
        "id": "Jrj3uSiKjqYm"
      }
    },
    {
      "cell_type": "markdown",
      "metadata": {
        "id": "8dc91852"
      },
      "source": [
        "Here is the truth table for the rule: $(HighGrades \\land Leader \\land Applied) \\rightarrow Eligible$\n",
        "\n",
        "Let:\n",
        "- H = HighGrades\n",
        "- L = Leader (StudentLeader)\n",
        "- A = Applied\n",
        "- E = Eligible\n",
        "\n",
        "The rule is $(H \\land L \\land A) \\rightarrow E$.\n",
        "\n",
        "| H     | L     | A     | $H \\land L \\land A$ | $(H \\land L \\land A) \\rightarrow E$ (Assuming E is True when H, L, A are True, and can be True or False otherwise based on other rules/facts) |\n",
        "|-------|-------|-------|---------------------|---------------------------------------------------------------------------------------------------------------------------------------|\n",
        "| True  | True  | True  | True                | True (According to the rule, Eligible is true if H, L, and A are true)                                                                |\n",
        "| True  | True  | False | False               | True                                                                                                                                    |\n",
        "| True  | False | True  | False               | True                                                                                                                                    |\n",
        "| True  | False | False | False               | True                                                                                                                                    |\n",
        "| False | True  | True  | False               | True                                                                                                                                    |\n",
        "| False | True  | False | False               | True                                                                                                                                    |\n",
        "| False | False | True  | False               | True                                                                                                                                    |\n",
        "| False | False | False | False               | True                                                                                                                                    |\n"
      ]
    },
    {
      "cell_type": "code",
      "metadata": {
        "colab": {
          "base_uri": "https://localhost:8080/"
        },
        "id": "e6b5a62c",
        "outputId": "647255a6-f717-4af9-adec-4279acda0cdf"
      },
      "source": [
        "facts = {\n",
        "    \"Juan\": {\"HighGrades\": True, \"StudentLeader\": False, \"Applied\": True},\n",
        "    \"Maria\": {\"HighGrades\": True, \"StudentLeader\": False, \"Applied\": False},\n",
        "    \"Carlos\": {\"HighGrades\": False, \"StudentLeader\": True, \"Applied\": False},\n",
        "    \"Ana\": {\"HighGrades\": True, \"StudentLeader\": True, \"Applied\": True}\n",
        "}\n",
        "\n",
        "\n",
        "\n",
        "print(\"--- Evaluating the rule (HighGrades AND StudentLeader AND Applied) -> Eligible for each student ---\")\n",
        "\n",
        "for student, student_facts in facts.items():\n",
        "    high_grades = student_facts.get(\"HighGrades\", False)\n",
        "    student_leader = student_facts.get(\"StudentLeader\", False)\n",
        "    applied = student_facts.get(\"Applied\", False)\n",
        "\n",
        "    antecedent = high_grades and student_leader and applied\n",
        "    print(f\"\\n--- {student} ---\")\n",
        "    print(f\"Facts: HighGrades={high_grades}, StudentLeader={student_leader}, Applied={applied}\")\n",
        "    print(f\"Antecedent (HighGrades AND StudentLeader AND Applied): {antecedent}\")\n",
        "\n",
        "    if antecedent:\n",
        "        print(f\"Conclusion: The antecedent is TRUE. According to the rule, {student} is Eligible.\")\n",
        "    else:\n",
        "        print(f\"Conclusion: The antecedent is FALSE. This rule does not conclude that {student} is Eligible.\")"
      ],
      "execution_count": 17,
      "outputs": [
        {
          "output_type": "stream",
          "name": "stdout",
          "text": [
            "--- Evaluating the rule (HighGrades AND StudentLeader AND Applied) -> Eligible for each student ---\n",
            "\n",
            "--- Juan ---\n",
            "Facts: HighGrades=True, StudentLeader=False, Applied=True\n",
            "Antecedent (HighGrades AND StudentLeader AND Applied): False\n",
            "Conclusion: The antecedent is FALSE. This rule does not conclude that Juan is Eligible.\n",
            "\n",
            "--- Maria ---\n",
            "Facts: HighGrades=True, StudentLeader=False, Applied=False\n",
            "Antecedent (HighGrades AND StudentLeader AND Applied): False\n",
            "Conclusion: The antecedent is FALSE. This rule does not conclude that Maria is Eligible.\n",
            "\n",
            "--- Carlos ---\n",
            "Facts: HighGrades=False, StudentLeader=True, Applied=False\n",
            "Antecedent (HighGrades AND StudentLeader AND Applied): False\n",
            "Conclusion: The antecedent is FALSE. This rule does not conclude that Carlos is Eligible.\n",
            "\n",
            "--- Ana ---\n",
            "Facts: HighGrades=True, StudentLeader=True, Applied=True\n",
            "Antecedent (HighGrades AND StudentLeader AND Applied): True\n",
            "Conclusion: The antecedent is TRUE. According to the rule, Ana is Eligible.\n"
          ]
        }
      ]
    },
    {
      "cell_type": "markdown",
      "source": [
        "# **Part 5**"
      ],
      "metadata": {
        "id": "erRBdeRsl56p"
      }
    },
    {
      "cell_type": "markdown",
      "source": [
        "Logical reasoning is important in AI because it allows machines to make decisions based on clear rules and evidence rather than guesswork. It helps AI systems solve problems, detect inconsistencies, and draw valid conclusions from given information. In real life, logical reasoning is equally important because it guides people in making fair, consistent, and well-structured decisions in situations like planning, problem-solving, or evaluating choices."
      ],
      "metadata": {
        "id": "mNUe-P7Fl9Hz"
      }
    }
  ]
}